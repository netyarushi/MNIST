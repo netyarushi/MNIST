{
  "nbformat": 4,
  "nbformat_minor": 0,
  "metadata": {
    "colab": {
      "name": "Deep_Learning_anety.ipynb",
      "provenance": [],
      "collapsed_sections": [],
      "machine_shape": "hm"
    },
    "kernelspec": {
      "display_name": "Python 3",
      "name": "python3"
    },
    "language_info": {
      "name": "python"
    },
    "accelerator": "GPU"
  },
  "cells": [
    {
      "cell_type": "markdown",
      "metadata": {
        "id": "FGBKjZd3IdCP"
      },
      "source": [
        "Part (A): IMPORTING THE STANDARD MNIST DATASET (TRAINING AND TESTING DATASETS) AND PROCESSING THE IMPORTED DATASETS\n"
      ]
    },
    {
      "cell_type": "code",
      "metadata": {
        "id": "jOQIiBiTrvOG"
      },
      "source": [
        "### IMPORT NECESSARY PACKAGES ###\n",
        "\n",
        "import keras\n",
        "from keras.datasets import mnist\n",
        "from keras.models import Sequential\n",
        "from keras.layers import Dense, Dropout, Flatten\n",
        "from keras.layers import Conv2D, MaxPooling2D\n",
        "from keras import backend as K\n",
        "from keras.utils.vis_utils import plot_model\n",
        "import matplotlib.pyplot as plt\n",
        "import os\n",
        "import tensorflow as tf\n",
        "import matplotlib.pyplot as plt\n",
        "import matplotlib.image as img\n",
        "import numpy as np"
      ],
      "execution_count": null,
      "outputs": []
    },
    {
      "cell_type": "code",
      "metadata": {
        "colab": {
          "base_uri": "https://localhost:8080/",
          "height": 459
        },
        "id": "FAf5mxMdsXQ-",
        "outputId": "977c1817-506f-4d7d-d081-b11c34bc7fb1"
      },
      "source": [
        "### IMPORT THE MNIST DATASET ###\n",
        "\n",
        "# x_train - training images, y_train - labels of training images\n",
        "# x_test - testing images, y_test - labels of testing images\n",
        "\n",
        "(x_train, y_train), (x_test, y_test) = mnist.load_data()\n",
        "img_rows, img_cols = 28, 28 # pixel size of images in MNIST\n",
        "num_classes = 10 # number of image labels. In our case the label can take 10 values (digits 0-9)\n",
        "\n",
        "\n",
        "# DATASET PROCESSING\n",
        "\n",
        "# Converting images to size (Num_Images,28,28,1), where Num_Images is 60000 for the training dataset, and 10000 for the test dataset \n",
        "x_train = x_train.reshape(x_train.shape[0], img_rows, img_cols, 1)\n",
        "x_test = x_test.reshape(x_test.shape[0], img_rows, img_cols, 1)\n",
        "input_shape = (img_rows, img_cols, 1)\n",
        "\n",
        "x_train = x_train.astype('float32')\n",
        "x_test = x_test.astype('float32')\n",
        "\n",
        "\n",
        "# DISPLAYING A SAMPLE TRAINING IMAGE OF RESOLUTION 28x28\n",
        "print('The 4th image in the training dataset looks like this:')\n",
        "plt.imshow(x_train[3,:].reshape((28,28)), cmap='gray', vmin = 0, vmax = 255,interpolation='none')\n",
        "plt.show()\n",
        "\n",
        "\n",
        "# NORMALIZE THE IMAGE PIXEL VALUES TO LIE BETWEEN 0 AND 1\n",
        "x_train /= 255\n",
        "x_test /= 255\n",
        "\n",
        "\n",
        "\n",
        "# CONVERT THE SCALAR IMAGE LABELS TO 10-dim VECTORS USING ONE-HOT ENCODING SCHEME\n",
        "\n",
        "print('Image label of 4th image: '+np.str(y_train[3]))\n",
        "\n",
        "# USE THE FOLLOWING 2 LINES FOR NEW VERSION OF KERAS\n",
        "# ONE-HOT ENCODING SCHEME - CONVERT INTEGERS TO VECTORS.\n",
        "y_train = keras.utils.np_utils.to_categorical(y_train, num_classes)\n",
        "y_test = keras.utils.np_utils.to_categorical(y_test, num_classes)\n",
        "\n",
        "print('Image label of 4th image after one-hot encoding: ',np.str(y_train[3]))\n"
      ],
      "execution_count": null,
      "outputs": [
        {
          "output_type": "stream",
          "name": "stdout",
          "text": [
            "Downloading data from https://storage.googleapis.com/tensorflow/tf-keras-datasets/mnist.npz\n",
            "11493376/11490434 [==============================] - 0s 0us/step\n",
            "11501568/11490434 [==============================] - 0s 0us/step\n",
            "The 4th image in the training dataset looks like this:\n"
          ]
        },
        {
          "output_type": "display_data",
          "data": {
            "text/plain": [
              "<Figure size 432x288 with 1 Axes>"
            ],
            "image/png": "[encoded data removed]"
          },
          "metadata": {
            "needs_background": "light"
          }
        },
        {
          "output_type": "stream",
          "name": "stdout",
          "text": [
            "Image label of 4th image: 1\n",
            "Image label of 4th image after one-hot encoding:  [0. 1. 0. 0. 0. 0. 0. 0. 0. 0.]\n"
          ]
        },
        {
          "output_type": "stream",
          "name": "stderr",
          "text": [
            "/usr/local/lib/python3.7/dist-packages/ipykernel_launcher.py:36: DeprecationWarning: `np.str` is a deprecated alias for the builtin `str`. To silence this warning, use `str` by itself. Doing this will not modify any behavior and is safe. If you specifically wanted the numpy scalar type, use `np.str_` here.\n",
            "Deprecated in NumPy 1.20; for more details and guidance: https://numpy.org/devdocs/release/1.20.0-notes.html#deprecations\n",
            "/usr/local/lib/python3.7/dist-packages/ipykernel_launcher.py:43: DeprecationWarning: `np.str` is a deprecated alias for the builtin `str`. To silence this warning, use `str` by itself. Doing this will not modify any behavior and is safe. If you specifically wanted the numpy scalar type, use `np.str_` here.\n",
            "Deprecated in NumPy 1.20; for more details and guidance: https://numpy.org/devdocs/release/1.20.0-notes.html#deprecations\n"
          ]
        }
      ]
    },
    {
      "cell_type": "markdown",
      "metadata": {
        "id": "9OE2a_lgDVbZ"
      },
      "source": [
        "PART (B): CREATE THE CONVOLUTIONAL NEURAL NETWORK USING KERAS AND TRAIN THE NEURAL NETWORK USING THE MNIST TRAINING DATASET."
      ]
    },
    {
      "cell_type": "code",
      "metadata": {
        "colab": {
          "base_uri": "https://localhost:8080/"
        },
        "id": "Ks8_tXTxCucy",
        "outputId": "9db01f45-636d-4775-9891-cfe9a7930087"
      },
      "source": [
        " ### CREATE MODEL - 2 CONVOLUTIONAL LAYERS FOLLOWED BY 2 DENSE (FULLY-CONNECTED) LAYERS ###\n",
        "\n",
        " \n",
        "# ACTIVATION FUNCTION USED - RELU #\n",
        "model = Sequential()\n",
        "\n",
        "# Convolutional layer #1\n",
        "model.add(Conv2D(32, kernel_size=(3, 3), activation='relu', input_shape=input_shape))\n",
        "# Convolutional layer #2\n",
        "model.add(Conv2D(64, (3, 3), activation='relu'))\n",
        "model.add(MaxPooling2D(pool_size=(2, 2)))\n",
        "model.add(Dropout(0.25))   # Dropout feature randomly removes certain layer-to-layer connections at each weight update, improving robustness of learning.\n",
        "model.add(Flatten())  # data is now in the form of a large column matrix.\n",
        "\n",
        "# Fully connected layer #1\n",
        "model.add(Dense(128, activation='relu'))\n",
        "model.add(Dropout(0.5))\n",
        "# Fully connected layer #2\n",
        "model.add(Dense(num_classes, activation='softmax')) \n",
        "# softmax generates a 10-dimensional probability vector as the output (sum of elements =1)\n",
        "# Value of component i is the confidence the neural network classifies image as digit (i-1)\n",
        "\n",
        "\n",
        "\n",
        "# SPECIFY THE OBJECTIVE FUNCTION TO BE MINIMIZED AND THE OPTIMIZATION ALGORITHMS TO BE USED\n",
        "\n",
        "model.compile(loss=keras.losses.categorical_crossentropy,optimizer=tf.keras.optimizers.Adadelta(),metrics=['accuracy'])\n",
        "print(model.summary())\n",
        "\n",
        "### PICTORIAL REPRESENTATION OF THE NEURAL NETWORK ###\n",
        "#plot_model(model, to_file='model_summary_plot.png', show_shapes=True, show_layer_names=True)"
      ],
      "execution_count": null,
      "outputs": [
        {
          "output_type": "stream",
          "name": "stdout",
          "text": [
            "Model: \"sequential\"\n",
            "_________________________________________________________________\n",
            " Layer (type)                Output Shape              Param #   \n",
            "=================================================================\n",
            " conv2d (Conv2D)             (None, 26, 26, 32)        320       \n",
            "                                                                 \n",
            " conv2d_1 (Conv2D)           (None, 24, 24, 64)        18496     \n",
            "                                                                 \n",
            " max_pooling2d (MaxPooling2D  (None, 12, 12, 64)       0         \n",
            " )                                                               \n",
            "                                                                 \n",
            " dropout (Dropout)           (None, 12, 12, 64)        0         \n",
            "                                                                 \n",
            " flatten (Flatten)           (None, 9216)              0         \n",
            "                                                                 \n",
            " dense (Dense)               (None, 128)               1179776   \n",
            "                                                                 \n",
            " dropout_1 (Dropout)         (None, 128)               0         \n",
            "                                                                 \n",
            " dense_1 (Dense)             (None, 10)                1290      \n",
            "                                                                 \n",
            "=================================================================\n",
            "Total params: 1,199,882\n",
            "Trainable params: 1,199,882\n",
            "Non-trainable params: 0\n",
            "_________________________________________________________________\n",
            "None\n"
          ]
        }
      ]
    },
    {
      "cell_type": "code",
      "metadata": {
        "colab": {
          "base_uri": "https://localhost:8080/"
        },
        "id": "PMxoOdgHOsrs",
        "outputId": "f80eb4b0-c167-4907-86a3-4536268ae8ab"
      },
      "source": [
        "### TRAIN ABOVE MODEL ON MNIST TRAINING DATASET ####\n",
        "\n",
        "# DESCRIPTION OF TRAINING PARAMETERS\n",
        "# BATCH_SIZE = how many images needed for updating network weights\n",
        "# EPOCHS = determines total number of network weight updates. \n",
        "# Specifically, total number of weight updates = EPOCHS*(TRAINING_DATASET_SIZE/BATCH_SIZE)\n",
        "\n",
        "\n",
        "batch_size = 128  # THIS IS BATCH STOCHASTIC GRADIENT. Pure STOCHASTIC GRADIENT => batch_size = 1.\n",
        "epochs = 10\n",
        "\n",
        "history = model.fit(x_train, y_train,\n",
        "          batch_size=batch_size,\n",
        "          epochs=epochs,\n",
        "          verbose=1,\n",
        "          validation_data=(x_test, y_test) )\n",
        "\n"
      ],
      "execution_count": null,
      "outputs": [
        {
          "output_type": "stream",
          "name": "stdout",
          "text": [
            "Epoch 1/10\n",
            "469/469 [==============================] - 4s 9ms/step - loss: 1.4084 - accuracy: 0.6344 - val_loss: 1.1861 - val_accuracy: 0.7908\n",
            "Epoch 2/10\n",
            "469/469 [==============================] - 4s 9ms/step - loss: 1.2633 - accuracy: 0.6579 - val_loss: 1.0293 - val_accuracy: 0.8029\n",
            "Epoch 3/10\n",
            "469/469 [==============================] - 4s 9ms/step - loss: 1.1487 - accuracy: 0.6789 - val_loss: 0.9076 - val_accuracy: 0.8179\n",
            "Epoch 4/10\n",
            "469/469 [==============================] - 4s 9ms/step - loss: 1.0614 - accuracy: 0.6952 - val_loss: 0.8153 - val_accuracy: 0.8274\n",
            "Epoch 5/10\n",
            "469/469 [==============================] - 4s 9ms/step - loss: 0.9846 - accuracy: 0.7128 - val_loss: 0.7438 - val_accuracy: 0.8349\n",
            "Epoch 6/10\n",
            "469/469 [==============================] - 5s 10ms/step - loss: 0.9309 - accuracy: 0.7233 - val_loss: 0.6877 - val_accuracy: 0.8423\n",
            "Epoch 7/10\n",
            "469/469 [==============================] - 4s 9ms/step - loss: 0.8809 - accuracy: 0.7376 - val_loss: 0.6430 - val_accuracy: 0.8480\n",
            "Epoch 8/10\n",
            "469/469 [==============================] - 4s 9ms/step - loss: 0.8394 - accuracy: 0.7484 - val_loss: 0.6056 - val_accuracy: 0.8540\n",
            "Epoch 9/10\n",
            "469/469 [==============================] - 4s 9ms/step - loss: 0.8032 - accuracy: 0.7564 - val_loss: 0.5746 - val_accuracy: 0.8577\n",
            "Epoch 10/10\n",
            "469/469 [==============================] - 4s 9ms/step - loss: 0.7741 - accuracy: 0.7663 - val_loss: 0.5485 - val_accuracy: 0.8623\n"
          ]
        }
      ]
    },
    {
      "cell_type": "code",
      "metadata": {
        "colab": {
          "base_uri": "https://localhost:8080/",
          "height": 350
        },
        "id": "-_yJoMezEqHy",
        "outputId": "04db4994-b97b-413c-fcc4-bb1df8d60c87"
      },
      "source": [
        "### PLOT THE TRAINING AND TESTING ACCURACY AS A FUNCTION OF TRAINING EPOCHS ###\n",
        "\n",
        "print('History of training accuracy:')\n",
        "print(history.history['accuracy'])\n",
        "\n",
        "\n",
        "plt.plot(history.history['accuracy'])\n",
        "plt.plot(history.history['val_accuracy'])\n",
        "plt.title('model accuracy')\n",
        "plt.ylabel('accuracy')\n",
        "plt.xlabel('epoch')\n",
        "plt.legend(['train', 'test'], loc='upper left')\n",
        "plt.show()"
      ],
      "execution_count": null,
      "outputs": [
        {
          "output_type": "stream",
          "name": "stdout",
          "text": [
            "History of training accuracy:\n",
            "[0.6343500018119812, 0.6578999757766724, 0.6788833141326904, 0.6952000260353088, 0.7128333449363708, 0.7233333587646484, 0.7375500202178955, 0.7484166622161865, 0.7564166784286499, 0.7663499712944031]\n"
          ]
        },
        {
          "output_type": "display_data",
          "data": {
            "text/plain": [
              "<Figure size 432x288 with 1 Axes>"
            ],
            "image/png": "[encoded data removed]"
          },
          "metadata": {
            "needs_background": "light"
          }
        }
      ]
    },
    {
      "cell_type": "markdown",
      "metadata": {
        "id": "n-761jdgIPi8"
      },
      "source": [
        "PART (C): DRAW AN IMAGE OF ANY DIGIT FROM 0-9. SEE HOW THE TRAINED MODEL PREDICTS THE HAND-DRAWN IMAGE"
      ]
    },
    {
      "cell_type": "code",
      "metadata": {
        "id": "kvI_KBViJoPU"
      },
      "source": [
        "# IMAGE PROCESSING TO CONVERT HAND-DRAWN IMAGE TO GRAYSCALE AND SIZE 28x28  \n",
        "\n",
        "#############   (UNCLEAN : CAN BE MADE MORE EFFICIENT)     #################\n",
        "\n",
        "import cv2\n",
        "import matplotlib.pyplot as plt\n",
        "import numpy as np\n",
        "import PIL\n",
        "from PIL import Image\n",
        "\n",
        "img = cv2.imread('hand_5.png', cv2.IMREAD_UNCHANGED)\n",
        "img_rgb = img[:, :,0:3]\n",
        "\n",
        "print(img_rgb.shape)\n",
        "\n",
        "# CONVERT RGBA format (4 channels) TO GRAYSCALE (1 channel)\n",
        "img_gray = np.zeros(np.shape(img_rgb)[0:2])\n",
        "img_gray = 0.2989*img_rgb[:,:,0] + 0.5870*img_rgb[:,:,1] +  0.1140*img_rgb[:,:,2]\n",
        "print(img_gray.shape)\n",
        "\n",
        "# CHANGE BACKGROUND FROM WHITE TO BLACK, INK FROM BLACK TO WHITE\n",
        "img_gray_neg = 255.0 - img_gray\n",
        "\n",
        "# RESIZE IMAGE TO 28x28 RESOLUTION\n",
        "im = Image.fromarray(img_gray_neg)\n",
        "im = im.convert('RGB')\n",
        "im = im.resize((28,28))\n",
        "im.save(\"hand_5_resized.jpg\")\n",
        "\n",
        "# SHOW CONVERTED GRASCALE 28x28 image\n",
        "plt.imshow(im,cmap='gray',vmin=0,vmax=255)\n",
        "im_mat = np.asarray(im)\n",
        "img_mat_gray = 0.2989*im_mat[:,:,0] + 0.5870*im_mat[:,:,1] +  0.1140*im_mat[:,:,2]"
      ],
      "execution_count": null,
      "outputs": []
    },
    {
      "cell_type": "code",
      "metadata": {
        "id": "QtOJOvI_N75V"
      },
      "source": [
        "img_9 = cv2.imread('hand_9.png', cv2.IMREAD_UNCHANGED)\n",
        "img_9_rgb = img_9[:, :,0:3]\n",
        "\n",
        "print(img_9_rgb.shape)\n",
        "\n",
        "# CONVERT RGBA format (4 channels) TO GRAYSCALE (1 channel)\n",
        "img_9_gray = np.zeros(np.shape(img_9_rgb)[0:2])\n",
        "img_9_gray = 0.2989*img_9_rgb[:,:,0] + 0.5870*img_9_rgb[:,:,1] +  0.1140*img_9_rgb[:,:,2]\n",
        "print(img_9_gray.shape)\n",
        "\n",
        "# CHANGE BACKGROUND FROM WHITE TO BLACK, INK FROM BLACK TO WHITE\n",
        "img_9_gray = 255.0 - img_9_gray\n",
        "\n",
        "# RESIZE IMAGE TO 28x28 RESOLUTION\n",
        "im_9 = Image.fromarray(img_9_gray)\n",
        "im_9 = im_9.convert('RGB')\n",
        "im_9 = im_9.resize((28,28))\n",
        "im_9.save(\"hand_9_resized.jpg\")\n",
        "\n",
        "# SHOW CONVERTED GRASCALE 28x28 image\n",
        "plt.imshow(im_9,cmap='gray',vmin=0,vmax=255)\n",
        "im_9_mat = np.asarray(im_9)\n",
        "img_9_mat_gray = 0.2989*im_9_mat[:,:,0] + 0.5870*im_9_mat[:,:,1] +  0.1140*im_9_mat[:,:,2]\n"
      ],
      "execution_count": null,
      "outputs": []
    },
    {
      "cell_type": "code",
      "metadata": {
        "id": "1FL4AUIhS_o4"
      },
      "source": [
        "# TEST THE GRAYSCALE IMAGE (CONVERTED IN PREVIOUS CELL) ON THE NEURAL NETWORK\n",
        "img_for_test  = np.zeros((1,28,28,1))\n",
        "img_for_test[0,:,:,0] = img_9_mat_gray/255.0  ### REMEMBER THE PIXEL VALUES HAVE TO LIE WITHIN 0,1\n",
        "prediction = model.predict(img_for_test)\n",
        "\n",
        "# PRINT ONE-HOT ENCODED VALUE AND LARGEST INDEX\n",
        "print('Softmax output for hand-drawn image: '+ np.str(prediction))\n",
        "print('Digit corresponding to largest output value (Max confidence prediction): '+np.str(np.argmax(prediction)))"
      ],
      "execution_count": null,
      "outputs": []
    }
  ]
}